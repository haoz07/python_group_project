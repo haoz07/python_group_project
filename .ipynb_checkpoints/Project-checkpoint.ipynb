{
 "cells": [
  {
   "cell_type": "markdown",
   "metadata": {},
   "source": [
    "# Self-Driving Cars: Localization\n",
    "#### James Feng, Andrew Lin, Hao Zhang"
   ]
  },
  {
   "cell_type": "markdown",
   "metadata": {},
   "source": [
    "## Why do we need self-driving cars?\n",
    "\n",
    "Growing interest in autonomous transportation for industrial and consumer applications\n",
    "\n",
    "Benefit:\n",
    " - Improve fuel efficiency\n",
    " - Reduce emmissions\n",
    " - Minimize traffic congestion\n",
    " - Increase lane capacity\n",
    " - Improve public safety\n",
    " - Free up driver's time\n",
    " - Reduce insurance rate\n",
    " - More accessibility\n",
    " - Opportunity for future analytics\n",
    "\n",
    "<h2><center>Robotics and autonomous vehicles utilize sensors and effectors</center></h2>\n",
    "\n",
    "<img src=\"Sense and Action.png\" width=\"400\" align=\"center\"/>\n",
    "\n",
    "There is inaccuracy in all sensors and effectors\n",
    "\n",
    "Software algorithms are available to ultilize probabilistic modeling to accurately localize position"
   ]
  },
  {
   "cell_type": "markdown",
   "metadata": {},
   "source": [
    "\n",
    "## 1D Localization\n",
    "\n",
    "In a simplified world\n",
    " - world: 1D environment labeled by red or green color \n",
    "      - `world = ['green', 'red', 'red', 'green', 'green']`\n",
    " - p: initial probability distribution of the world\n",
    "      - `p = [0.2, 0.2, 0.2, 0.2, 0.2]`\n",
    " - measurements: red/green color reported by the sensor\n",
    "      - `measurements = ['red', 'red']`\n",
    " - motions: movement of the vehicle\n",
    "      - `motions = [1,1]`\n",
    " - sensor accuracy: correct reading on a scale of 0-1\n",
    "      - `pHit = 0.6`\n",
    "      - `pMiss = 0.2`\n",
    " - motor accuracy: correct movement on a scale of 0-1\n",
    "      - `pExact = 0.8`\n",
    "      - `pOvershoot = 0.1`\n",
    "      - `pUndershoot = 0.1`\n",
    "    \n",
    "      \n",
    "Need two functions: \n",
    "```python\n",
    "def sense(world, p, measurement, pHit, pMiss)\n",
    "    return post_p\n",
    "    \n",
    "def move(world, p, motion, pExact, pOvershoot, pUndershoot)\n",
    "    return post_p\n",
    "```\n"
   ]
  },
  {
   "cell_type": "markdown",
   "metadata": {},
   "source": [
    "### Sense\n",
    "\n",
    "![](Picture1.png)\n",
    "\n",
    "```\n",
    "def sense(world, p, measurement, pHit, pMiss)\n",
    "    1. initialize post-sensor probability as a list\n",
    "    2. compare the sensor reading (measurement) against local environment (world)\n",
    "    3. calculate post-sensor probability using pre-sensor probability and sensor accuracy\n",
    "    4. normalize post-sensor probability values\n",
    "    return post_p\n",
    "```\n"
   ]
  },
  {
   "cell_type": "code",
   "execution_count": 13,
   "metadata": {},
   "outputs": [],
   "source": [
    "def sense(world, p, measurement, pHit, pMiss):\n",
    "    q=[]\n",
    "    for i in range(len(p)):\n",
    "        hit = (measurement == world[i])\n",
    "        q.append(p[i] * (hit * pHit + (1-hit) * pMiss))\n",
    "    s = sum(q)\n",
    "    for i in range(len(q)):\n",
    "        q[i] = q[i] / s\n",
    "    return q"
   ]
  },
  {
   "cell_type": "markdown",
   "metadata": {},
   "source": [
    "### Move\n",
    "![](Screen Shot 2018-07-31 at 6.03.15 PM.png)\n",
    "\n",
    "\n",
    "```python\n",
    "def move(world, p, motion, pExact, pOvershoot, pUndershoot)\n",
    "    1. initialize post-movement probability as a list\n",
    "    2. calculate post-movement probability using pre-movement probability and motor accuracy\n",
    "    return post_p\n",
    "```"
   ]
  },
  {
   "cell_type": "code",
   "execution_count": 16,
   "metadata": {},
   "outputs": [],
   "source": [
    "def move(world, p, motion, pExact, pOvershoot, pUndershoot):\n",
    "    q = []\n",
    "    for i in range(len(p)):\n",
    "        s = pExact * p[(i-motion) % len(p)]\n",
    "        s = s + pOvershoot * p[(i-motion-1) % len(p)]\n",
    "        s = s + pUndershoot * p[(i-motion+1) % len(p)]\n",
    "        q.append(s)\n",
    "    return q"
   ]
  },
  {
   "cell_type": "code",
   "execution_count": 17,
   "metadata": {},
   "outputs": [
    {
     "name": "stdout",
     "output_type": "stream",
     "text": [
      "[0.07882352941176471, 0.07529411764705884, 0.22470588235294123, 0.4329411764705882, 0.18823529411764706]\n"
     ]
    }
   ],
   "source": [
    "p=[0.2, 0.2, 0.2, 0.2, 0.2]\n",
    "world=['green', 'red', 'red', 'green', 'green']\n",
    "measurements = ['red', 'red']\n",
    "motions = [1,1]\n",
    "pHit = 0.6\n",
    "pMiss = 0.2\n",
    "pExact = 0.8\n",
    "pOvershoot = 0.1\n",
    "pUndershoot = 0.1\n",
    "\n",
    "for k in range(len(measurements)):\n",
    "    p = sense(world, p, measurements[k], pHit, pMiss)\n",
    "    p = move(world, p, motions[k], pExact, pOvershoot, pUndershoot)\n",
    "print(p)    "
   ]
  },
  {
   "cell_type": "markdown",
   "metadata": {},
   "source": [
    "## Advanced: 2D Plotting\n",
    "\n",
    "Subtle improvement on 1D localization:\n",
    " - Initilze prior probability based on envrionment dimensions\n",
    " - Calling indices using nested for loops\n",
    " - Added heat map for visualization\n"
   ]
  },
  {
   "cell_type": "code",
   "execution_count": 13,
   "metadata": {},
   "outputs": [],
   "source": [
    "%matplotlib inline\n",
    "import numpy as np\n",
    "import matplotlib.pyplot as plt\n",
    "import pprint\n",
    "\n",
    "\n",
    "def localize(colors, measurements, motions, sensor_right, p_move):\n",
    "    # initializes p to a uniform distribution over a grid of the same dimensions as colors\n",
    "    pinit = 1.0 / float(len(colors)) / float(len(colors[0]))\n",
    "    p = [[pinit for row in range(len(colors[0]))] for col in range(len(colors))]\n",
    "    for i in range(len(motions)):\n",
    "        p = move(p, motions[i], p_move)\n",
    "        p = sense(p, measurements[i], sensor_right, colors)\n",
    "        myarray = np.asarray(p)\n",
    "        plt.imshow(myarray, cmap='RdYlGn', interpolation='none')\n",
    "        plt.show()\n",
    "    return p\n",
    "\n",
    "def sense(p, measurements, sensor_right, colors):\n",
    "    q = [[] for _ in range(len(p))]\n",
    "    s = 0\n",
    "    sensor_wrong = 1 - sensor_right\n",
    "    for i in range(len(p)):\n",
    "        for j in range(len(p[i])):\n",
    "            hit = (measurements == colors[i][j])\n",
    "            q[i].append(p[i][j] * (hit * sensor_right + (1-hit) * sensor_wrong))\n",
    "        s = s + sum(q[i])\n",
    "    for i in range(len(p)):\n",
    "        for j in range(len(p[i])):\n",
    "            q[i][j] /= s\n",
    "    return q\n",
    "\n",
    "def move(p, motions, p_move):\n",
    "    q = [[] for i in range(len(p))]\n",
    "    p_stay = 1 - p_move\n",
    "    for i in range(len(p)):\n",
    "        for j in range(len(p[i])):\n",
    "            q[i].append(p_move * p[(i-motions[0]) % len(p)][(j-motions[1]) % len(p[i])] + (p_stay * p[i][j]))\n",
    "    return q\n",
    "\n"
   ]
  },
  {
   "cell_type": "code",
   "execution_count": 14,
   "metadata": {},
   "outputs": [
    {
     "data": {
      "image/png": "[encoded data removed]",
      "text/plain": [
       "<Figure size 432x288 with 1 Axes>"
      ]
     },
     "metadata": {},
     "output_type": "display_data"
    },
    {
     "data": {
      "image/png": "[encoded data removed]",
      "text/plain": [
       "<Figure size 432x288 with 1 Axes>"
      ]
     },
     "metadata": {},
     "output_type": "display_data"
    },
    {
     "data": {
      "image/png": "[encoded data removed]",
      "text/plain": [
       "<Figure size 432x288 with 1 Axes>"
      ]
     },
     "metadata": {},
     "output_type": "display_data"
    },
    {
     "data": {
      "image/png": "[encoded data removed]",
      "text/plain": [
       "<Figure size 432x288 with 1 Axes>"
      ]
     },
     "metadata": {},
     "output_type": "display_data"
    },
    {
     "data": {
      "image/png": "[encoded data removed]",
      "text/plain": [
       "<Figure size 432x288 with 1 Axes>"
      ]
     },
     "metadata": {},
     "output_type": "display_data"
    },
    {
     "data": {
      "image/png": "[encoded data removed]",
      "text/plain": [
       "<Figure size 432x288 with 1 Axes>"
      ]
     },
     "metadata": {},
     "output_type": "display_data"
    },
    {
     "data": {
      "image/png": "[encoded data removed]",
      "text/plain": [
       "<Figure size 432x288 with 1 Axes>"
      ]
     },
     "metadata": {},
     "output_type": "display_data"
    },
    {
     "data": {
      "image/png": "[encoded data removed]",
      "text/plain": [
       "<Figure size 432x288 with 1 Axes>"
      ]
     },
     "metadata": {},
     "output_type": "display_data"
    },
    {
     "data": {
      "image/png": "[encoded data removed]",
      "text/plain": [
       "<Figure size 432x288 with 1 Axes>"
      ]
     },
     "metadata": {},
     "output_type": "display_data"
    },
    {
     "name": "stdout",
     "output_type": "stream",
     "text": [
      "[0.017820167150811587, 0.0853563113831344, 0.11355547435967614, 0.015317773856980365, 0.01306066299670227]\n",
      "[0.013096282204630959, 0.07759604614334778, 0.32143124633622855, 0.015054874310057538, 0.0047110014509383945]\n",
      "[0.007402778082077259, 0.012028670283511005, 0.09986305002899779, 0.07420343620044569, 0.007093120974188717]\n",
      "[0.007993741730562458, 0.011295247883596753, 0.03477565647081586, 0.05497203950756845, 0.01337241864572809]\n"
     ]
    }
   ],
   "source": [
    "colors = [['R','G','G','R','R'],\n",
    "          ['R','R','G','R','R'],\n",
    "          ['R','R','G','G','R'],\n",
    "          ['R','R','R','R','R']]\n",
    "measurements = ['G','G','R','R','R','R','G','G','G']\n",
    "motions = [[0,0],[0,1],[1,0],[1,0],[0,1],[0,1],[0,1],[0,1],[1,0]]\n",
    "p = localize(colors,measurements,motions,sensor_right = 0.7, p_move = 0.8)\n",
    "for i in range(len(p)):\n",
    "    print(p[i])"
   ]
  },
  {
   "cell_type": "code",
   "execution_count": null,
   "metadata": {},
   "outputs": [],
   "source": []
  }
 ],
 "metadata": {
  "kernelspec": {
   "display_name": "Python 3",
   "language": "python",
   "name": "python3"
  },
  "language_info": {
   "codemirror_mode": {
    "name": "ipython",
    "version": 3
   },
   "file_extension": ".py",
   "mimetype": "text/x-python",
   "name": "python",
   "nbconvert_exporter": "python",
   "pygments_lexer": "ipython3",
   "version": "3.6.6"
  }
 },
 "nbformat": 4,
 "nbformat_minor": 2
}
